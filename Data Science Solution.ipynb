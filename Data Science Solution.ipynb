<!DOCTYPE HTML>
<html>

<head>
    <meta charset="utf-8">

    <title>IPython Notebook</title>
    <link rel="shortcut icon" type="image/x-icon" href="/static/base/images/favicon.ico?v=4e6c6be5716444f7ac7b902e7f388939">
    <meta http-equiv="X-UA-Compatible" content="chrome=1">
    <link rel="stylesheet" href="/static/components/jquery-ui/themes/smoothness/jquery-ui.min.css?v=60f0405edd95e7135ec6a0bbc36d1385" type="text/css" />
    <meta name="viewport" content="width=device-width, initial-scale=1.0">
    
    


<script type="text/javascript" src="http://cdn.mathjax.org/mathjax/latest/MathJax.js?config=TeX-AMS_HTML-full&delayStartupUntil=configured" charset="utf-8"></script>

<script type="text/javascript">
// MathJax disabled, set as null to distingish from *missing* MathJax,
// where it will be undefined, and should prompt a dialog later.
window.mathjax_url = "http://cdn.mathjax.org/mathjax/latest/MathJax.js";
</script>

<link rel="stylesheet" href="/static/components/bootstrap-tour/build/css/bootstrap-tour.min.css?v=d0b3c2fce6056a2ddd5a4513762a94c4" type="text/css" />
<link rel="stylesheet" href="/static/components/codemirror/lib/codemirror.css?v=73fb29fa560f1e385a1c7cff7cbc31bd">


    <link rel="stylesheet" href="/static/style/style.min.css?v=7775081fa91df3822d16b2087bc2c8dd" type="text/css"/>
    

<link rel="stylesheet" href="/static/notebook/css/override.css?v=6ea2476bfc7a48925b5902913f113653" type="text/css" />


    <link rel="stylesheet" href="/static/custom/custom.css?v=900035aa0c126bb85df55c5b3e51b6f1" type="text/css" />
    <script src="/static/components/requirejs/require.js?v=07d7db4d3fd6519996822665e4239282" type="text/javascript" charset="utf-8"></script>
    <script>
      require.config({
          baseUrl: '/static/',
          paths: {
            nbextensions : '/nbextensions',
            underscore : '/static/components/underscore/underscore-min.js?v=ca26dc8cdf5d413cd8d3b62490e28210',
            backbone : '/static/components/backbone/backbone-min.js?v=dd2e6c2643968f7932487454302f407d',
          },
          shim: {
            underscore: {
              exports: '_'
            },
            backbone: {
              deps: ["underscore", "jquery"],
              exports: "Backbone"
            }
          }
      });
    </script>

    
    

</head>

<body 

data-project="C:\Users\weimin\Documents\IPython Notebooks"
data-base-url="/"
data-notebook-name="Data%20Science%20Solution.ipynb"
data-notebook-path=""
class="notebook_app"

>

<noscript>
    <div id='noscript'>
      IPython Notebook requires JavaScript.<br>
      Please enable it to proceed.
  </div>
</noscript>

<div id="header" class="navbar navbar-static-top">
  <div class="navbar-inner navbar-nobg">
    <div class="container">
    <div id="ipython_notebook" class="nav brand pull-left"><a href="/tree/" alt='dashboard'><img src='/static/base/images/ipynblogo.png?v=5892b775169dd3ddb0c9ec906f4183de' alt='IPython Notebook'/></a></div>

    

      <span id="login_widget">
        
      </span>

    

    

<span id="save_widget" class="nav pull-left">
    <span id="notebook_name"></span>
    <span id="checkpoint_status"></span>
    <span id="autosave_status"></span>
</span>


    </div>
  </div>
</div>

<div id="site">


<div id="menubar-container" class="container">
<div id="menubar">
<div class="navbar">
  <div class="navbar-inner">
    <div class="container">
    <ul id="menus" class="nav">
        <li class="dropdown"><a href="#" class="dropdown-toggle" data-toggle="dropdown">File</a>
            <ul id="file_menu" class="dropdown-menu">
                <li id="new_notebook"
                    title="Make a new notebook (Opens a new window)">
                    <a href="#">New</a></li>
                <li id="open_notebook"
                    title="Opens a new window with the Dashboard view">
                    <a href="#">Open...</a></li>
                <!-- <hr/> -->
                <li class="divider"></li>
                <li id="copy_notebook"
                    title="Open a copy of this notebook's contents and start a new kernel">
                    <a href="#">Make a Copy...</a></li>
                <li id="rename_notebook"><a href="#">Rename...</a></li>
                <li id="save_checkpoint"><a href="#">Save and Checkpoint</a></li>
                <!-- <hr/> -->
                <li class="divider"></li>
                <li id="restore_checkpoint" class="dropdown-submenu"><a href="#">Revert to Checkpoint</a>
                  <ul class="dropdown-menu">
                    <li><a href="#"></a></li>
                    <li><a href="#"></a></li>
                    <li><a href="#"></a></li>
                    <li><a href="#"></a></li>
                    <li><a href="#"></a></li>
                  </ul>
                </li>
                <li class="divider"></li>
                <li id="print_preview"><a href="#">Print Preview</a></li>
                <li class="dropdown-submenu"><a href="#">Download as</a>
                    <ul class="dropdown-menu">
                        <li id="download_ipynb"><a href="#">IPython Notebook (.ipynb)</a></li>
                        <li id="download_py"><a href="#">Python (.py)</a></li>
                        <li id="download_html"><a href="#">HTML (.html)</a></li>
                        <li id="download_rst"><a href="#">reST (.rst)</a></li>
                    </ul>
                </li>
                <li class="divider"></li>
                <li id="trust_notebook"
                    title="Trust the output of this notebook">
                    <a href="#" >Trust Notebook</a></li>
                <li class="divider"></li>
                <li id="kill_and_exit"
                    title="Shutdown this notebook's kernel, and close this window">
                    <a href="#" >Close and halt</a></li>
            </ul>
        </li>
        <li class="dropdown"><a href="#" class="dropdown-toggle" data-toggle="dropdown">Edit</a>
            <ul id="edit_menu" class="dropdown-menu">
                <li id="cut_cell"><a href="#">Cut Cell</a></li>
                <li id="copy_cell"><a href="#">Copy Cell</a></li>
                <li id="paste_cell_above" class="disabled"><a href="#">Paste Cell Above</a></li>
                <li id="paste_cell_below" class="disabled"><a href="#">Paste Cell Below</a></li>
                <li id="paste_cell_replace" class="disabled"><a href="#">Paste Cell &amp; Replace</a></li>
                <li id="delete_cell"><a href="#">Delete Cell</a></li>
                <li id="undelete_cell" class="disabled"><a href="#">Undo Delete Cell</a></li>
                <li class="divider"></li>
                <li id="split_cell"><a href="#">Split Cell</a></li>
                <li id="merge_cell_above"><a href="#">Merge Cell Above</a></li>
                <li id="merge_cell_below"><a href="#">Merge Cell Below</a></li>
                <li class="divider"></li>
                <li id="move_cell_up"><a href="#">Move Cell Up</a></li>
                <li id="move_cell_down"><a href="#">Move Cell Down</a></li>
                <li class="divider"></li>
                <li id="edit_nb_metadata"><a href="#">Edit Notebook Metadata</a></li>
            </ul>
        </li>
        <li class="dropdown"><a href="#" class="dropdown-toggle" data-toggle="dropdown">View</a>
            <ul id="view_menu" class="dropdown-menu">
                <li id="toggle_header"
                    title="Show/Hide the IPython Notebook logo and notebook title (above menu bar)">
                    <a href="#">Toggle Header</a></li>
                <li id="toggle_toolbar"
                    title="Show/Hide the action icons (below menu bar)">
                    <a href="#">Toggle Toolbar</a></li>
            </ul>
        </li>
        <li class="dropdown"><a href="#" class="dropdown-toggle" data-toggle="dropdown">Insert</a>
            <ul id="insert_menu" class="dropdown-menu">
                <li id="insert_cell_above"
                    title="Insert an empty Code cell above the currently active cell">
                    <a href="#">Insert Cell Above</a></li>
                <li id="insert_cell_below"
                    title="Insert an empty Code cell below the currently active cell">
                    <a href="#">Insert Cell Below</a></li>
            </ul>
        </li>
        <li class="dropdown"><a href="#" class="dropdown-toggle" data-toggle="dropdown">Cell</a>
            <ul id="cell_menu" class="dropdown-menu">
                <li id="run_cell" title="Run this cell, and move cursor to the next one">
                    <a href="#">Run</a></li>
                <li id="run_cell_select_below" title="Run this cell, select below">
                    <a href="#">Run and Select Below</a></li>
                <li id="run_cell_insert_below" title="Run this cell, insert below">
                    <a href="#">Run and Insert Below</a></li>
                <li id="run_all_cells" title="Run all cells in the notebook">
                    <a href="#">Run All</a></li>
                <li id="run_all_cells_above" title="Run all cells above (but not including) this cell">
                    <a href="#">Run All Above</a></li>
                <li id="run_all_cells_below" title="Run this cell and all cells below it">
                    <a href="#">Run All Below</a></li>
                <li class="divider"></li>
                <li id="change_cell_type" class="dropdown-submenu"
                    title="All cells in the notebook have a cell type. By default, new cells are created as 'Code' cells">
                    <a href="#">Cell Type</a>
                    <ul class="dropdown-menu">
                      <li id="to_code"
                          title="Contents will be sent to the kernel for execution, and output will display in the footer of cell">
                          <a href="#">Code</a></li>
                      <li id="to_markdown"
                          title="Contents will be rendered as HTML and serve as explanatory text">
                          <a href="#">Markdown</a></li>
                      <li id="to_raw"
                          title="Contents will pass through nbconvert unmodified">
                          <a href="#">Raw NBConvert</a></li>
                      <li id="to_heading1"><a href="#">Heading 1</a></li>
                      <li id="to_heading2"><a href="#">Heading 2</a></li>
                      <li id="to_heading3"><a href="#">Heading 3</a></li>
                      <li id="to_heading4"><a href="#">Heading 4</a></li>
                      <li id="to_heading5"><a href="#">Heading 5</a></li>
                      <li id="to_heading6"><a href="#">Heading 6</a></li>
                    </ul>
                </li>
                <li class="divider"></li>
                <li id="current_outputs" class="dropdown-submenu"><a href="#">Current Output</a>
                    <ul class="dropdown-menu">
                        <li id="toggle_current_output"
                            title="Hide/Show the output of the current cell">
                            <a href="#">Toggle</a>
                        </li>
                        <li id="toggle_current_output_scroll"
                            title="Scroll the output of the current cell">
                            <a href="#">Toggle Scrolling</a>
                        </li>
                        <li id="clear_current_output"
                            title="Clear the output of the current cell">
                            <a href="#">Clear</a>
                        </li>
                    </ul>
                </li>
                <li id="all_outputs" class="dropdown-submenu"><a href="#">All Output</a>
                    <ul class="dropdown-menu">
                        <li id="toggle_all_output"
                            title="Hide/Show the output of all cells">
                            <a href="#">Toggle</a>
                        </li>
                        <li id="toggle_all_output_scroll"
                            title="Scroll the output of all cells">
                            <a href="#">Toggle Scrolling</a>
                        </li>
                        <li id="clear_all_output"
                            title="Clear the output of all cells">
                            <a href="#">Clear</a>
                        </li>
                    </ul>
                </li>
            </ul>
        </li>
        <li class="dropdown"><a href="#" class="dropdown-toggle" data-toggle="dropdown">Kernel</a>
            <ul id="kernel_menu" class="dropdown-menu">
                <li id="int_kernel"
                    title="Send KeyboardInterrupt (CTRL-C) to the Kernel">
                    <a href="#">Interrupt</a></li>
                <li id="restart_kernel"
                    title="Restart the Kernel">
                    <a href="#">Restart</a></li>
            </ul>
        </li>
        <li class="dropdown"><a href="#" class="dropdown-toggle" data-toggle="dropdown">Help</a>
            <ul  id="help_menu" class="dropdown-menu">
                <li id="notebook_tour" title="A quick tour of the notebook user interface"><a href="#">User Interface Tour</a></li>
                <li id="keyboard_shortcuts" title="Opens a tooltip with all keyboard shortcuts"><a href="#">Keyboard Shortcuts</a></li>
                <li class="divider"></li>
                

                
                    
                        <li><a href="http://ipython.org/documentation.html" target="_blank" title="Opens in a new window">
                        <i class="icon-external-link menu-icon pull-right"></i>
                        IPython Help
                        </a></li>
                    
                        <li><a href="http://nbviewer.ipython.org/github/ipython/ipython/tree/2.x/examples/Index.ipynb" target="_blank" title="Opens in a new window">
                        <i class="icon-external-link menu-icon pull-right"></i>
                        Notebook Help
                        </a></li>
                    
                    
                        <li class="divider"></li>
                    
                
                    
                        <li><a href="http://docs.python.org" target="_blank" title="Opens in a new window">
                        <i class="icon-external-link menu-icon pull-right"></i>
                        Python
                        </a></li>
                    
                        <li><a href="http://help.github.com/articles/github-flavored-markdown" target="_blank" title="Opens in a new window">
                        <i class="icon-external-link menu-icon pull-right"></i>
                        Markdown
                        </a></li>
                    
                        <li><a href="http://docs.scipy.org/doc/numpy/reference/" target="_blank" title="Opens in a new window">
                        <i class="icon-external-link menu-icon pull-right"></i>
                        NumPy
                        </a></li>
                    
                        <li><a href="http://docs.scipy.org/doc/scipy/reference/" target="_blank" title="Opens in a new window">
                        <i class="icon-external-link menu-icon pull-right"></i>
                        SciPy
                        </a></li>
                    
                        <li><a href="http://matplotlib.org/contents.html" target="_blank" title="Opens in a new window">
                        <i class="icon-external-link menu-icon pull-right"></i>
                        Matplotlib
                        </a></li>
                    
                        <li><a href="http://docs.sympy.org/latest/index.html" target="_blank" title="Opens in a new window">
                        <i class="icon-external-link menu-icon pull-right"></i>
                        SymPy
                        </a></li>
                    
                        <li><a href="http://pandas.pydata.org/pandas-docs/stable/" target="_blank" title="Opens in a new window">
                        <i class="icon-external-link menu-icon pull-right"></i>
                        pandas
                        </a></li>
                    
                    
                
                </li>
            </ul>
        </li>
    </ul>
    <div id="kernel_indicator" class="indicator_area pull-right">
       <i id="kernel_indicator_icon"></i>
    </div>
    <div id="modal_indicator" class="indicator_area pull-right">
       <i id="modal_indicator_icon"></i>
    </div>
    <div id="notification_area"></div>
    </div>
  </div>
</div>
</div>
<div id="maintoolbar" class="navbar">
  <div class="toolbar-inner navbar-inner navbar-nobg">
    <div id="maintoolbar-container" class="container"></div>
  </div>
</div>
</div>

<div id="ipython-main-app">

    <div id="notebook_panel">
        <div id="notebook"></div>
        <div id="pager_splitter"></div>
        <div id="pager">
            <div id='pager_button_area'>
            </div>
            <div id="pager-container" class="container"></div>
        </div>
    </div>

</div>
<div id='tooltip' class='ipython_tooltip' style='display:none'></div>



</div>

<script src="/static/components/jquery/jquery.min.js?v=ccd0edd113b78697e04fb5c1b519a5cd" type="text/javascript" charset="utf-8"></script>
<script src="/static/components/jquery-ui/ui/minified/jquery-ui.min.js?v=fd255415839568e52a48da5de5af244c" type="text/javascript" charset="utf-8"></script>
<script src="/static/components/bootstrap/bootstrap/js/bootstrap.min.js?v=d700a93337122b390b90bbfe21e64f71" type="text/javascript" charset="utf-8"></script>
<script src="/static/base/js/namespace.js?v=25ebebc984a04c10f3aba4389736413a" type="text/javascript" charset="utf-8"></script>
<script src="/static/base/js/page.js?v=8cff843ac51ad2c78fefd590fdeffaf4" type="text/javascript" charset="utf-8"></script>
<script src="/static/auth/js/loginwidget.js?v=9704cc6d38aa3d5d0f9201416aec9086" type="text/javascript" charset="utf-8"></script>






<script src="/static/components/google-caja/html-css-sanitizer-minified.js?v=e37ad48fe0c91a2685cb220b24976d5a" charset="utf-8"></script>
<script src="/static/components/codemirror/lib/codemirror.js?v=0e59a0e2c19169db3fd8211ec6824685" charset="utf-8"></script>
<script type="text/javascript">
    CodeMirror.modeURL = "/static/components/codemirror/mode/%N/%N.js";
</script>
<script src="/static/components/codemirror/addon/mode/loadmode.js?v=77c25116ca25c8f486b6e51b8508b61b" charset="utf-8"></script>
<script src="/static/components/codemirror/addon/mode/multiplex.js?v=d9c29e21d92780eb3a275c48cf95cba1" charset="utf-8"></script>
<script src="/static/components/codemirror/addon/mode/overlay.js?v=d8c2d47f490ce2737d63567d72cd6cbd" charset="utf-8"></script>
<script src="/static/components/codemirror/addon/edit/matchbrackets.js?v=73fcc92073c6300caefd88cb8bb7c8ea" charset="utf-8"></script>
<script src="/static/components/codemirror/addon/edit/closebrackets.js?v=7a92b36072578bc059f1a24a51d8c5cd" charset="utf-8"></script>
<script src="/static/components/codemirror/addon/comment/comment.js?v=4385bf45f415c7b10c77339ef92ca9c6" charset="utf-8"></script>
<script src="/static/components/codemirror/mode/htmlmixed/htmlmixed.js?v=1c5f62d5c2b0340ae7e3114b966d9c5a" charset="utf-8"></script>
<script src="/static/components/codemirror/mode/xml/xml.js?v=ece4ceadf21979bf4268ee2c5495a4d9" charset="utf-8"></script>
<script src="/static/components/codemirror/mode/javascript/javascript.js?v=0651ee647d08c8a69b3880ef86d17cb2" charset="utf-8"></script>
<script src="/static/components/codemirror/mode/css/css.js?v=c27aeb17961cd2ed3c91e673e1b13b67" charset="utf-8"></script>
<script src="/static/components/codemirror/mode/rst/rst.js?v=9c14ec4fdc261c89d6b0c49251452572" charset="utf-8"></script>
<script src="/static/components/codemirror/mode/markdown/markdown.js?v=a5801438e11396236bd84d154d3d7de4" charset="utf-8"></script>
<script src="/static/components/codemirror/mode/gfm/gfm.js?v=7c6a0de693e3f943d166e9217940b311" charset="utf-8"></script>
<script src="/static/components/codemirror/mode/python/python.js?v=c8c9319bf22dd5d03ac44a65eafe906c" charset="utf-8"></script>
<script src="/static/notebook/js/codemirror-ipython.js?v=3dbfb564fbde794199bbb2f25f1c351f" charset="utf-8"></script>

<script src="/static/components/highlight.js/build/highlight.pack.js?v=7b10417ab6f29ea4a9c2a372b7237ce5" charset="utf-8"></script>

<script src="/static/dateformat/date.format.js?v=3d6c937e5616e43e12950082c2fff018" charset="utf-8"></script>

<script src="/static/base/js/events.js?v=cc4013e9d8d26923095c78d790d199be" type="text/javascript" charset="utf-8"></script>
<script src="/static/base/js/utils.js?v=2833d86aa2a81d8cbb18115b9f4c0423" type="text/javascript" charset="utf-8"></script>
<script src="/static/base/js/keyboard.js?v=4309078b5664681393539977962fcd1d" type="text/javascript" charset="utf-8"></script>
<script src="/static/base/js/security.js?v=e9cf1cd9e6335aeaf3d0c366765ad26d" type="text/javascript" charset="utf-8"></script>
<script src="/static/base/js/dialog.js?v=85f27bfb6d7862a1ecac24b754f32a88" type="text/javascript" charset="utf-8"></script>
<script src="/static/services/kernels/js/kernel.js?v=4f7e3edf038579ed584b87f5c10a24ad" type="text/javascript" charset="utf-8"></script>
<script src="/static/services/kernels/js/comm.js?v=f6acfac4110c05a2d4985876fb49765a" type="text/javascript" charset="utf-8"></script>
<script src="/static/services/sessions/js/session.js?v=e6a4722d978777460b3c5e853ca65381" type="text/javascript" charset="utf-8"></script>
<script src="/static/notebook/js/layoutmanager.js?v=5af7c2d4adfe4ca8d4c01f3580f94678" type="text/javascript" charset="utf-8"></script>
<script src="/static/notebook/js/mathjaxutils.js?v=d86811b815014810e39aea98f3df6bd7" type="text/javascript" charset="utf-8"></script>
<script src="/static/notebook/js/outputarea.js?v=b7a027e8d15c522578a4142b8342789f" type="text/javascript" charset="utf-8"></script>
<script src="/static/notebook/js/cell.js?v=4536f378f56b6ff33d9e32c76f0878cd" type="text/javascript" charset="utf-8"></script>
<script src="/static/notebook/js/celltoolbar.js?v=16fb585cd52b4783a13660aacba149f5" type="text/javascript" charset="utf-8"></script>
<script src="/static/notebook/js/codecell.js?v=31968aed36a91a54af7b0c9f685641c6" type="text/javascript" charset="utf-8"></script>
<script src="/static/notebook/js/completer.js?v=f859a8452b2094a339cf87f92129ea1b" type="text/javascript" charset="utf-8"></script>
<script src="/static/notebook/js/textcell.js?v=3bceff0eb3b6634401f00a538fc9d41a" type="text/javascript" charset="utf-8"></script>
<script src="/static/notebook/js/savewidget.js?v=ac8187d3bad3d29eef7a0896ff393303" type="text/javascript" charset="utf-8"></script>
<script src="/static/notebook/js/quickhelp.js?v=c3b200343a2aaebdecfce719e2276f3a" type="text/javascript" charset="utf-8"></script>
<script src="/static/notebook/js/pager.js?v=191cbaf5b9d377be52174ee360372f01" type="text/javascript" charset="utf-8"></script>
<script src="/static/notebook/js/menubar.js?v=1a0ae17c7c64970729b22f7457b34413" type="text/javascript" charset="utf-8"></script>
<script src="/static/notebook/js/toolbar.js?v=1c31103a9c46971da5d10b128ea088cf" type="text/javascript" charset="utf-8"></script>
<script src="/static/notebook/js/maintoolbar.js?v=b2232fd6aadde804bbce28d52c1fd398" type="text/javascript" charset="utf-8"></script>
<script src="/static/notebook/js/notebook.js?v=618d0a8adac5fa1a223070ae2afc1fb9" type="text/javascript" charset="utf-8"></script>
<script src="/static/notebook/js/keyboardmanager.js?v=07d3eaf572d32b631c4143dfa07c7045" type="text/javascript" charset="utf-8"></script>
<script src="/static/notebook/js/notificationwidget.js?v=755d243c7dcaa3f03588227fc284dfc2" type="text/javascript" charset="utf-8"></script>
<script src="/static/notebook/js/notificationarea.js?v=fe361b37422e48aa3eaf052cb6589e30" type="text/javascript" charset="utf-8"></script>
<script src="/static/notebook/js/tooltip.js?v=9351d167a1cdd691af4450253c240bb2" type="text/javascript" charset="utf-8"></script>
<script src="/static/notebook/js/tour.js?v=630eb2e33426651abd1aca86b52a5a51" type="text/javascript" charset="utf-8"></script>

<script src="/static/notebook/js/config.js?v=e9fbd59982fd5af3bd4521d1af09c008" type="text/javascript" charset="utf-8"></script>
<script src="/static/notebook/js/main.js?v=29279aa747f4ab954902e8ee192bdc1a" type="text/javascript" charset="utf-8"></script>

<script src="/static/notebook/js/contexthint.js?v=ee0ce7d63250863c32c3f1c57a3fed5e" charset="utf-8"></script>

<script src="/static/notebook/js/celltoolbarpresets/default.js?v=4f89f0a656c7126c793208d35ab0c977" type="text/javascript" charset="utf-8"></script>
<script src="/static/notebook/js/celltoolbarpresets/rawcell.js?v=b2fd7b68ffaa1a0743822566e51d51bb" type="text/javascript" charset="utf-8"></script>
<script src="/static/notebook/js/celltoolbarpresets/slideshow.js?v=e0de0a8feb75f511d163c5950b465e86" type="text/javascript" charset="utf-8"></script>



<script src="/static/custom/custom.js?v=ac0e144e4e80bfc108e6bbc1dc325d09" type="text/javascript" charset="utf-8"></script>

</body>

</html>